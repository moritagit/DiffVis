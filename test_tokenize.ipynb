{
 "cells": [
  {
   "cell_type": "markdown",
   "metadata": {},
   "source": [
    "# Test of DiffVis when tokenizing"
   ]
  },
  {
   "cell_type": "markdown",
   "metadata": {},
   "source": [
    "## Settings"
   ]
  },
  {
   "cell_type": "code",
   "execution_count": 1,
   "metadata": {
    "collapsed": true
   },
   "outputs": [],
   "source": [
    "import sys\n",
    "import MeCab\n",
    "from IPython.display import HTML"
   ]
  },
  {
   "cell_type": "code",
   "execution_count": 2,
   "metadata": {
    "collapsed": false
   },
   "outputs": [],
   "source": [
    "sys.path.append('../')\n",
    "from DiffVis.diffvis import DiffVis"
   ]
  },
  {
   "cell_type": "code",
   "execution_count": 3,
   "metadata": {
    "collapsed": true
   },
   "outputs": [],
   "source": [
    "sys.setrecursionlimit(2000)"
   ]
  },
  {
   "cell_type": "markdown",
   "metadata": {},
   "source": [
    "## Define"
   ]
  },
  {
   "cell_type": "code",
   "execution_count": 4,
   "metadata": {
    "collapsed": true
   },
   "outputs": [],
   "source": [
    "class Tokenizer(object):\n",
    "    \"\"\"Tokenize Japanese sentence to words.\n",
    "\n",
    "    Args:\n",
    "        mecab_dict_path (str or pathlib.Path): Path to MeCab dictionary.\n",
    "        parts_of_speech (list[str]): List that contains part of speeches to be extracted.\n",
    "            If None (default), these are used:\n",
    "                [\n",
    "                    '名詞', '動詞', '形容詞', '副詞', '助詞',\n",
    "                    '接続詞', '助動詞', '連体詞', '感動詞',\n",
    "                ]\n",
    "        normalize (bool): Flag to determine whether to transform to base form or not.\n",
    "            Defaults to False.\n",
    "\n",
    "    Attributes:\n",
    "        tagger (MeCab.Tagger): Tagger.\n",
    "        parts_of_speech (list[str]): List that contains part of speeches to be extracted.\n",
    "        normalize (bool): Flag to determine whether to transform to base form or not.\n",
    "    \"\"\"\n",
    "    def __init__(self, mecab_dict_path='', parts_of_speech=None, normalize=False,):\n",
    "        added = ''\n",
    "        if mecab_dict_path:\n",
    "            added = ' -d' + str(mecab_dict_path)\n",
    "        self.tagger = MeCab.Tagger('-Ochasen' + added)\n",
    "        self.tagger.parse('')\n",
    "        if parts_of_speech:\n",
    "            self.parts_of_speech = parts_of_speech\n",
    "        else:\n",
    "            self.parts_of_speech = [\n",
    "                '名詞', '動詞', '形容詞', '副詞', '助詞',\n",
    "                '接続詞', '助動詞', '連体詞', '感動詞',\n",
    "                ]\n",
    "        self.normalize = normalize\n",
    "\n",
    "    def tokenize(self, sentence):\n",
    "        \"\"\"Tokenize Japanese sentence to words.\n",
    "\n",
    "        Args:\n",
    "            sentence (str): Sentence to tokenize.\n",
    "\n",
    "        Returns:\n",
    "            words (list[str]): Extracted words.\n",
    "        \"\"\"\n",
    "        res = self.tagger.parseToNode(sentence)\n",
    "        words = []\n",
    "        if self.normalize:\n",
    "            while res:\n",
    "                content = res.feature.split(',')\n",
    "                part_of_speech = content[0]\n",
    "                if part_of_speech in self.parts_of_speech:\n",
    "                    word = content[6]\n",
    "                    if word == '*':\n",
    "                        word = res.surface\n",
    "                    words.append(word)\n",
    "                res = res.next\n",
    "        else:\n",
    "            while res:\n",
    "                word = res.surface\n",
    "                part_of_speech = res.feature.split(',')[0]\n",
    "                if part_of_speech in self.parts_of_speech:\n",
    "                    words.append(word)\n",
    "                res = res.next\n",
    "        return words"
   ]
  },
  {
   "cell_type": "markdown",
   "metadata": {},
   "source": [
    "## Test"
   ]
  },
  {
   "cell_type": "code",
   "execution_count": 17,
   "metadata": {
    "collapsed": false
   },
   "outputs": [],
   "source": [
    "tokenizer = Tokenizer()"
   ]
  },
  {
   "cell_type": "code",
   "execution_count": 18,
   "metadata": {
    "collapsed": false
   },
   "outputs": [
    {
     "name": "stdout",
     "output_type": "stream",
     "text": [
      "10 12\n"
     ]
    }
   ],
   "source": [
    "source = 'すももも桃も桃のうち'\n",
    "target = 'すもももももももものうち'\n",
    "m, n = len(source), len(target)\n",
    "print(m, n)"
   ]
  },
  {
   "cell_type": "code",
   "execution_count": 19,
   "metadata": {
    "collapsed": false
   },
   "outputs": [
    {
     "name": "stdout",
     "output_type": "stream",
     "text": [
      "7 7\n"
     ]
    }
   ],
   "source": [
    "source = tokenizer.tokenize(source)\n",
    "target = tokenizer.tokenize(target)\n",
    "m, n = len(source), len(target)\n",
    "print(m, n)"
   ]
  },
  {
   "cell_type": "code",
   "execution_count": 20,
   "metadata": {
    "collapsed": true
   },
   "outputs": [],
   "source": [
    "dv = DiffVis(source, target)\n",
    "dv.build()"
   ]
  },
  {
   "cell_type": "code",
   "execution_count": 21,
   "metadata": {
    "collapsed": false
   },
   "outputs": [
    {
     "name": "stdout",
     "output_type": "stream",
     "text": [
      "0.2857142857142857\n",
      "2\n"
     ]
    }
   ],
   "source": [
    "print(dv.distance(normalize=True))\n",
    "print(dv.distance(normalize=False))"
   ]
  },
  {
   "cell_type": "code",
   "execution_count": 22,
   "metadata": {
    "collapsed": false
   },
   "outputs": [
    {
     "data": {
      "text/plain": [
       "((0, 1, 2, 3, 4, 5, 6, 7),\n",
       " (1, 0, 1, 2, 3, 4, 5, 6),\n",
       " (2, 1, 0, 1, 2, 3, 4, 5),\n",
       " (3, 2, 1, 1, 2, 3, 4, 5),\n",
       " (4, 3, 2, 2, 1, 2, 3, 4),\n",
       " (5, 4, 3, 3, 2, 2, 3, 4),\n",
       " (6, 5, 4, 4, 3, 3, 2, 3),\n",
       " (7, 6, 5, 5, 4, 4, 3, 2))"
      ]
     },
     "execution_count": 22,
     "metadata": {},
     "output_type": "execute_result"
    }
   ],
   "source": [
    "dv.cost_table"
   ]
  },
  {
   "cell_type": "code",
   "execution_count": 23,
   "metadata": {
    "collapsed": false
   },
   "outputs": [
    {
     "name": "stdout",
     "output_type": "stream",
     "text": [
      "Edit History\n",
      "\tmatch\n",
      "\tmatch\n",
      "\treplace\n",
      "\tmatch\n",
      "\treplace\n",
      "\tmatch\n",
      "\tmatch\n"
     ]
    }
   ],
   "source": [
    "print(dv.format_edit_history())"
   ]
  },
  {
   "cell_type": "code",
   "execution_count": 24,
   "metadata": {
    "collapsed": false,
    "scrolled": false
   },
   "outputs": [
    {
     "name": "stdout",
     "output_type": "stream",
     "text": [
      "\u001b[32mすもも\u001b[0m\u001b[32mも\u001b[0m\u001b[31m桃　\u001b[0m\u001b[32mも\u001b[0m\u001b[31m桃　\u001b[0m\u001b[32mの\u001b[0m\u001b[32mうち\u001b[0m\n",
      "\u001b[32mすもも\u001b[0m\u001b[32mも\u001b[0m\u001b[34mもも\u001b[0m\u001b[32mも\u001b[0m\u001b[34mもも\u001b[0m\u001b[32mの\u001b[0m\u001b[32mうち\u001b[0m\n"
     ]
    }
   ],
   "source": [
    "print(dv.generate_comparison(mode='console', padding=True))"
   ]
  },
  {
   "cell_type": "code",
   "execution_count": 25,
   "metadata": {
    "collapsed": false
   },
   "outputs": [
    {
     "name": "stdout",
     "output_type": "stream",
     "text": [
      "\u001b[32mすもも\u001b[0m\u001b[32mも\u001b[0m\u001b[31m桃\u001b[0m\u001b[32mも\u001b[0m\u001b[31m桃\u001b[0m\u001b[32mの\u001b[0m\u001b[32mうち\u001b[0m\n",
      "\u001b[32mすもも\u001b[0m\u001b[32mも\u001b[0m\u001b[34mもも\u001b[0m\u001b[32mも\u001b[0m\u001b[34mもも\u001b[0m\u001b[32mの\u001b[0m\u001b[32mうち\u001b[0m\n"
     ]
    }
   ],
   "source": [
    "print(dv.generate_comparison(mode='console', padding=False))"
   ]
  },
  {
   "cell_type": "code",
   "execution_count": 26,
   "metadata": {
    "collapsed": false
   },
   "outputs": [
    {
     "data": {
      "text/html": [
       "<span style=\"color: green;\">すもも</span><span style=\"color: green;\">も</span><span style=\"color: red;\">桃　</span><span style=\"color: green;\">も</span><span style=\"color: red;\">桃　</span><span style=\"color: green;\">の</span><span style=\"color: green;\">うち</span><br><span style=\"color: green;\">すもも</span><span style=\"color: green;\">も</span><span style=\"color: blue;\">もも</span><span style=\"color: green;\">も</span><span style=\"color: blue;\">もも</span><span style=\"color: green;\">の</span><span style=\"color: green;\">うち</span>"
      ],
      "text/plain": [
       "<IPython.core.display.HTML object>"
      ]
     },
     "execution_count": 26,
     "metadata": {},
     "output_type": "execute_result"
    }
   ],
   "source": [
    "HTML(dv.generate_comparison(mode='html', padding=True))"
   ]
  },
  {
   "cell_type": "code",
   "execution_count": 27,
   "metadata": {
    "collapsed": false
   },
   "outputs": [
    {
     "data": {
      "text/html": [
       "<span style=\"color: green;\">すもも</span><span style=\"color: green;\">も</span><span style=\"color: red;\">桃</span><span style=\"color: green;\">も</span><span style=\"color: red;\">桃</span><span style=\"color: green;\">の</span><span style=\"color: green;\">うち</span><br><span style=\"color: green;\">すもも</span><span style=\"color: green;\">も</span><span style=\"color: blue;\">もも</span><span style=\"color: green;\">も</span><span style=\"color: blue;\">もも</span><span style=\"color: green;\">の</span><span style=\"color: green;\">うち</span>"
      ],
      "text/plain": [
       "<IPython.core.display.HTML object>"
      ]
     },
     "execution_count": 27,
     "metadata": {},
     "output_type": "execute_result"
    }
   ],
   "source": [
    "HTML(dv.generate_comparison(mode='html', padding=False))"
   ]
  },
  {
   "cell_type": "code",
   "execution_count": 28,
   "metadata": {
    "collapsed": false
   },
   "outputs": [
    {
     "data": {
      "text/html": [
       "<table style=\"table-layout: fixed;\"><tr><td style=\"text-align=center\"><span style=\"color: green;\">すもも</span></td><td style=\"text-align=center\"><span style=\"color: green;\">も</span></td><td style=\"text-align=center\"><span style=\"color: red;\">桃</span></td><td style=\"text-align=center\"><span style=\"color: green;\">も</span></td><td style=\"text-align=center\"><span style=\"color: red;\">桃</span></td><td style=\"text-align=center\"><span style=\"color: green;\">の</span></td><td style=\"text-align=center\"><span style=\"color: green;\">うち</span></td></tr><tr><td style=\"text-align=center\"><span style=\"color: green;\">すもも</span></td><td style=\"text-align=center\"><span style=\"color: green;\">も</span></td><td style=\"text-align=center\"><span style=\"color: blue;\">もも</span></td><td style=\"text-align=center\"><span style=\"color: green;\">も</span></td><td style=\"text-align=center\"><span style=\"color: blue;\">もも</span></td><td style=\"text-align=center\"><span style=\"color: green;\">の</span></td><td style=\"text-align=center\"><span style=\"color: green;\">うち</span></td></tr></table>"
      ],
      "text/plain": [
       "<IPython.core.display.HTML object>"
      ]
     },
     "execution_count": 28,
     "metadata": {},
     "output_type": "execute_result"
    }
   ],
   "source": [
    "HTML(dv.generate_comparison(mode='htmltab'))"
   ]
  },
  {
   "cell_type": "code",
   "execution_count": 29,
   "metadata": {
    "collapsed": false
   },
   "outputs": [
    {
     "data": {
      "text/plain": [
       "'すももも<blank>も<blank>のうち'"
      ]
     },
     "execution_count": 29,
     "metadata": {},
     "output_type": "execute_result"
    }
   ],
   "source": [
    "dv.template(use_str=True)"
   ]
  },
  {
   "cell_type": "code",
   "execution_count": 30,
   "metadata": {
    "collapsed": false
   },
   "outputs": [
    {
     "data": {
      "text/plain": [
       "['すもも', 'も', '<blank>', 'も', '<blank>', 'の', 'うち']"
      ]
     },
     "execution_count": 30,
     "metadata": {},
     "output_type": "execute_result"
    }
   ],
   "source": [
    "dv.template()"
   ]
  },
  {
   "cell_type": "markdown",
   "metadata": {},
   "source": [
    "## Test of Levenshtein Distance"
   ]
  },
  {
   "cell_type": "code",
   "execution_count": 31,
   "metadata": {
    "collapsed": false
   },
   "outputs": [
    {
     "name": "stdout",
     "output_type": "stream",
     "text": [
      "Levenshtein Distance: 5\n",
      "Normalized Levenshtein Distance: 0.833\n",
      "\n",
      "Cost Table\n",
      "---------------------------------\n",
      "|   |   | t | a | r | g | e | t |\n",
      "---------------------------------\n",
      "|   | 0 | 1 | 2 | 3 | 4 | 5 | 6 |\n",
      "---------------------------------\n",
      "| s | 1 | 1 | 2 | 3 | 4 | 5 | 6 |\n",
      "---------------------------------\n",
      "| o | 2 | 2 | 2 | 3 | 4 | 5 | 6 |\n",
      "---------------------------------\n",
      "| u | 3 | 3 | 3 | 3 | 4 | 5 | 6 |\n",
      "---------------------------------\n",
      "| r | 4 | 4 | 4 | 3 | 4 | 5 | 6 |\n",
      "---------------------------------\n",
      "| c | 5 | 5 | 5 | 4 | 4 | 5 | 6 |\n",
      "---------------------------------\n",
      "| e | 6 | 6 | 6 | 5 | 5 | 4 | 5 |\n",
      "---------------------------------\n",
      "\n",
      "Edit History\n",
      "\treplace\n",
      "\treplace\n",
      "\tdelete\n",
      "\tmatch\n",
      "\treplace\n",
      "\tmatch\n",
      "\tinsert\n"
     ]
    }
   ],
   "source": [
    "!python edit_distance.py source target -a"
   ]
  }
 ],
 "metadata": {
  "kernelspec": {
   "display_name": "Python 3",
   "language": "python",
   "name": "python3"
  },
  "language_info": {
   "codemirror_mode": {
    "name": "ipython",
    "version": 3
   },
   "file_extension": ".py",
   "mimetype": "text/x-python",
   "name": "python",
   "nbconvert_exporter": "python",
   "pygments_lexer": "ipython3",
   "version": "3.6.0"
  }
 },
 "nbformat": 4,
 "nbformat_minor": 2
}
