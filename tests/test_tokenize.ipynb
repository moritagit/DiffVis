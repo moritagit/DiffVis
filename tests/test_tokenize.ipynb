{
 "cells": [
  {
   "cell_type": "markdown",
   "metadata": {},
   "source": [
    "# Test of DiffVis when tokenizing"
   ]
  },
  {
   "cell_type": "markdown",
   "metadata": {},
   "source": [
    "## Settings"
   ]
  },
  {
   "cell_type": "code",
   "execution_count": 1,
   "metadata": {
    "collapsed": true
   },
   "outputs": [],
   "source": [
    "import sys\n",
    "import MeCab\n",
    "from IPython.display import HTML"
   ]
  },
  {
   "cell_type": "code",
   "execution_count": 2,
   "metadata": {
    "collapsed": false
   },
   "outputs": [],
   "source": [
    "sys.path.append('../../')\n",
    "from DiffVis.diffvis import DiffVis"
   ]
  },
  {
   "cell_type": "code",
   "execution_count": 3,
   "metadata": {
    "collapsed": true
   },
   "outputs": [],
   "source": [
    "sys.setrecursionlimit(2000)"
   ]
  },
  {
   "cell_type": "markdown",
   "metadata": {},
   "source": [
    "## Define"
   ]
  },
  {
   "cell_type": "code",
   "execution_count": 4,
   "metadata": {
    "collapsed": true
   },
   "outputs": [],
   "source": [
    "class Tokenizer(object):\n",
    "    \"\"\"Tokenize Japanese sentence to words.\n",
    "\n",
    "    Args:\n",
    "        mecab_dict_path (str or pathlib.Path): Path to MeCab dictionary.\n",
    "        parts_of_speech (list[str]): List that contains part of speeches to be extracted.\n",
    "            If None (default), these are used:\n",
    "                [\n",
    "                    '名詞', '動詞', '形容詞', '副詞', '助詞',\n",
    "                    '接続詞', '助動詞', '連体詞', '感動詞',\n",
    "                ]\n",
    "        normalize (bool): Flag to determine whether to transform to base form or not.\n",
    "            Defaults to False.\n",
    "\n",
    "    Attributes:\n",
    "        tagger (MeCab.Tagger): Tagger.\n",
    "        parts_of_speech (list[str]): List that contains part of speeches to be extracted.\n",
    "        normalize (bool): Flag to determine whether to transform to base form or not.\n",
    "    \"\"\"\n",
    "    def __init__(self, mecab_dict_path='', parts_of_speech=None, normalize=False,):\n",
    "        added = ''\n",
    "        if mecab_dict_path:\n",
    "            added = ' -d' + str(mecab_dict_path)\n",
    "        self.tagger = MeCab.Tagger('-Ochasen' + added)\n",
    "        self.tagger.parse('')\n",
    "        if parts_of_speech:\n",
    "            self.parts_of_speech = parts_of_speech\n",
    "        else:\n",
    "            self.parts_of_speech = [\n",
    "                '名詞', '動詞', '形容詞', '副詞', '助詞',\n",
    "                '接続詞', '助動詞', '連体詞', '感動詞',\n",
    "                ]\n",
    "        self.normalize = normalize\n",
    "\n",
    "    def tokenize(self, sentence):\n",
    "        \"\"\"Tokenize Japanese sentence to words.\n",
    "\n",
    "        Args:\n",
    "            sentence (str): Sentence to tokenize.\n",
    "\n",
    "        Returns:\n",
    "            words (list[str]): Extracted words.\n",
    "        \"\"\"\n",
    "        res = self.tagger.parseToNode(sentence)\n",
    "        words = []\n",
    "        if self.normalize:\n",
    "            while res:\n",
    "                content = res.feature.split(',')\n",
    "                part_of_speech = content[0]\n",
    "                if part_of_speech in self.parts_of_speech:\n",
    "                    word = content[6]\n",
    "                    if word == '*':\n",
    "                        word = res.surface\n",
    "                    words.append(word)\n",
    "                res = res.next\n",
    "        else:\n",
    "            while res:\n",
    "                word = res.surface\n",
    "                part_of_speech = res.feature.split(',')[0]\n",
    "                if part_of_speech in self.parts_of_speech:\n",
    "                    words.append(word)\n",
    "                res = res.next\n",
    "        return words"
   ]
  },
  {
   "cell_type": "markdown",
   "metadata": {},
   "source": [
    "## Test"
   ]
  },
  {
   "cell_type": "code",
   "execution_count": 5,
   "metadata": {
    "collapsed": true
   },
   "outputs": [],
   "source": [
    "alignment = 'LCS'  # Levenshtein or LCS\n",
    "source = 'すももも桃も桃のうち'\n",
    "target = 'すもももももももものうち'"
   ]
  },
  {
   "cell_type": "code",
   "execution_count": 6,
   "metadata": {
    "collapsed": false
   },
   "outputs": [
    {
     "name": "stdout",
     "output_type": "stream",
     "text": [
      "Source (Length: 10): すももも桃も桃のうち\n",
      "Target (Length: 12): すもももももももものうち\n"
     ]
    }
   ],
   "source": [
    "print('Source (Length: {}): {}'.format(len(source), source))\n",
    "print('Target (Length: {}): {}'.format(len(target), target))"
   ]
  },
  {
   "cell_type": "code",
   "execution_count": 7,
   "metadata": {
    "collapsed": false
   },
   "outputs": [],
   "source": [
    "tokenizer = Tokenizer()"
   ]
  },
  {
   "cell_type": "code",
   "execution_count": 8,
   "metadata": {
    "collapsed": false
   },
   "outputs": [
    {
     "name": "stdout",
     "output_type": "stream",
     "text": [
      "Source (Length: 10): ['すもも', 'も', '桃', 'も', '桃', 'の', 'うち']\n",
      "Target (Length: 12): ['すもも', 'も', 'もも', 'も', 'もも', 'の', 'うち']\n"
     ]
    }
   ],
   "source": [
    "source_tokenized = tokenizer.tokenize(source)\n",
    "target_tokenized = tokenizer.tokenize(target)\n",
    "print('Source (Length: {}): {}'.format(len(source_tokenized), source_tokenized))\n",
    "print('Target (Length: {}): {}'.format(len(target_tokenized), target_tokenized))"
   ]
  },
  {
   "cell_type": "code",
   "execution_count": 9,
   "metadata": {
    "collapsed": true
   },
   "outputs": [],
   "source": [
    "dv = DiffVis(source_tokenized, target_tokenized, alignment=alignment)\n",
    "dv.build()"
   ]
  },
  {
   "cell_type": "code",
   "execution_count": 10,
   "metadata": {
    "collapsed": false
   },
   "outputs": [
    {
     "name": "stdout",
     "output_type": "stream",
     "text": [
      "Distance: 2\n",
      "Normalized Distance: 0.2857142857142857\n"
     ]
    }
   ],
   "source": [
    "print('Distance: {}'.format(dv.distance(normalize=False)))\n",
    "print('Normalized Distance: {}'.format(dv.distance(normalize=True)))"
   ]
  },
  {
   "cell_type": "code",
   "execution_count": 11,
   "metadata": {
    "collapsed": false
   },
   "outputs": [
    {
     "data": {
      "text/plain": [
       "((0, 0, 0, 0, 0, 0, 0, 0),\n",
       " (0, 1, 1, 1, 1, 1, 1, 1),\n",
       " (0, 1, 2, 2, 2, 2, 2, 2),\n",
       " (0, 1, 2, 2, 2, 2, 2, 2),\n",
       " (0, 1, 2, 2, 3, 3, 3, 3),\n",
       " (0, 1, 2, 2, 3, 3, 3, 3),\n",
       " (0, 1, 2, 2, 3, 3, 4, 4),\n",
       " (0, 1, 2, 2, 3, 3, 4, 5))"
      ]
     },
     "execution_count": 11,
     "metadata": {},
     "output_type": "execute_result"
    }
   ],
   "source": [
    "dv.cost_table"
   ]
  },
  {
   "cell_type": "code",
   "execution_count": 12,
   "metadata": {
    "collapsed": false
   },
   "outputs": [
    {
     "name": "stdout",
     "output_type": "stream",
     "text": [
      "Edit History\n",
      "\tmatch\n",
      "\tmatch\n",
      "\treplace\n",
      "\tmatch\n",
      "\treplace\n",
      "\tmatch\n",
      "\tmatch\n"
     ]
    }
   ],
   "source": [
    "print(dv.format_edit_history())"
   ]
  },
  {
   "cell_type": "code",
   "execution_count": 13,
   "metadata": {
    "collapsed": false,
    "scrolled": false
   },
   "outputs": [
    {
     "name": "stdout",
     "output_type": "stream",
     "text": [
      "\u001b[32mすもも\u001b[0m\u001b[32mも\u001b[0m\u001b[31m桃　\u001b[0m\u001b[32mも\u001b[0m\u001b[31m桃　\u001b[0m\u001b[32mの\u001b[0m\u001b[32mうち\u001b[0m\n",
      "\u001b[32mすもも\u001b[0m\u001b[32mも\u001b[0m\u001b[34mもも\u001b[0m\u001b[32mも\u001b[0m\u001b[34mもも\u001b[0m\u001b[32mの\u001b[0m\u001b[32mうち\u001b[0m\n"
     ]
    }
   ],
   "source": [
    "print(dv.visualize(mode='console', padding=True))"
   ]
  },
  {
   "cell_type": "code",
   "execution_count": 14,
   "metadata": {
    "collapsed": false
   },
   "outputs": [
    {
     "name": "stdout",
     "output_type": "stream",
     "text": [
      "\u001b[32mすもも\u001b[0m\u001b[32mも\u001b[0m\u001b[31m桃\u001b[0m\u001b[32mも\u001b[0m\u001b[31m桃\u001b[0m\u001b[32mの\u001b[0m\u001b[32mうち\u001b[0m\n",
      "\u001b[32mすもも\u001b[0m\u001b[32mも\u001b[0m\u001b[34mもも\u001b[0m\u001b[32mも\u001b[0m\u001b[34mもも\u001b[0m\u001b[32mの\u001b[0m\u001b[32mうち\u001b[0m\n"
     ]
    }
   ],
   "source": [
    "print(dv.visualize(mode='console', padding=False))"
   ]
  },
  {
   "cell_type": "code",
   "execution_count": 15,
   "metadata": {
    "collapsed": false
   },
   "outputs": [
    {
     "data": {
      "text/html": [
       "<span style=\"color: green;\">すもも</span><span style=\"color: green;\">も</span><span style=\"color: red;\">桃　</span><span style=\"color: green;\">も</span><span style=\"color: red;\">桃　</span><span style=\"color: green;\">の</span><span style=\"color: green;\">うち</span><br><span style=\"color: green;\">すもも</span><span style=\"color: green;\">も</span><span style=\"color: blue;\">もも</span><span style=\"color: green;\">も</span><span style=\"color: blue;\">もも</span><span style=\"color: green;\">の</span><span style=\"color: green;\">うち</span>"
      ],
      "text/plain": [
       "<IPython.core.display.HTML object>"
      ]
     },
     "execution_count": 15,
     "metadata": {},
     "output_type": "execute_result"
    }
   ],
   "source": [
    "HTML(dv.visualize(mode='html', padding=True))"
   ]
  },
  {
   "cell_type": "code",
   "execution_count": 16,
   "metadata": {
    "collapsed": false
   },
   "outputs": [
    {
     "data": {
      "text/html": [
       "<span style=\"color: green;\">すもも</span><span style=\"color: green;\">も</span><span style=\"color: red;\">桃</span><span style=\"color: green;\">も</span><span style=\"color: red;\">桃</span><span style=\"color: green;\">の</span><span style=\"color: green;\">うち</span><br><span style=\"color: green;\">すもも</span><span style=\"color: green;\">も</span><span style=\"color: blue;\">もも</span><span style=\"color: green;\">も</span><span style=\"color: blue;\">もも</span><span style=\"color: green;\">の</span><span style=\"color: green;\">うち</span>"
      ],
      "text/plain": [
       "<IPython.core.display.HTML object>"
      ]
     },
     "execution_count": 16,
     "metadata": {},
     "output_type": "execute_result"
    }
   ],
   "source": [
    "HTML(dv.visualize(mode='html', padding=False))"
   ]
  },
  {
   "cell_type": "code",
   "execution_count": 17,
   "metadata": {
    "collapsed": false
   },
   "outputs": [
    {
     "data": {
      "text/html": [
       "<table style=\"table-layout: fixed;\"><tr><td style=\"text-align=center\"><span style=\"color: green;\">すもも</span></td><td style=\"text-align=center\"><span style=\"color: green;\">も</span></td><td style=\"text-align=center\"><span style=\"color: red;\">桃</span></td><td style=\"text-align=center\"><span style=\"color: green;\">も</span></td><td style=\"text-align=center\"><span style=\"color: red;\">桃</span></td><td style=\"text-align=center\"><span style=\"color: green;\">の</span></td><td style=\"text-align=center\"><span style=\"color: green;\">うち</span></td></tr><tr><td style=\"text-align=center\"><span style=\"color: green;\">すもも</span></td><td style=\"text-align=center\"><span style=\"color: green;\">も</span></td><td style=\"text-align=center\"><span style=\"color: blue;\">もも</span></td><td style=\"text-align=center\"><span style=\"color: green;\">も</span></td><td style=\"text-align=center\"><span style=\"color: blue;\">もも</span></td><td style=\"text-align=center\"><span style=\"color: green;\">の</span></td><td style=\"text-align=center\"><span style=\"color: green;\">うち</span></td></tr></table>"
      ],
      "text/plain": [
       "<IPython.core.display.HTML object>"
      ]
     },
     "execution_count": 17,
     "metadata": {},
     "output_type": "execute_result"
    }
   ],
   "source": [
    "HTML(dv.visualize(mode='htmltab'))"
   ]
  },
  {
   "cell_type": "code",
   "execution_count": 18,
   "metadata": {
    "collapsed": false
   },
   "outputs": [
    {
     "data": {
      "text/plain": [
       "'すももも<blank>も<blank>のうち'"
      ]
     },
     "execution_count": 18,
     "metadata": {},
     "output_type": "execute_result"
    }
   ],
   "source": [
    "dv.make_template(return_str=True)"
   ]
  },
  {
   "cell_type": "code",
   "execution_count": 19,
   "metadata": {
    "collapsed": false
   },
   "outputs": [
    {
     "data": {
      "text/plain": [
       "['すもも', 'も', '<blank>', 'も', '<blank>', 'の', 'うち']"
      ]
     },
     "execution_count": 19,
     "metadata": {},
     "output_type": "execute_result"
    }
   ],
   "source": [
    "dv.template"
   ]
  }
 ],
 "metadata": {
  "kernelspec": {
   "display_name": "Python 3",
   "language": "python",
   "name": "python3"
  },
  "language_info": {
   "codemirror_mode": {
    "name": "ipython",
    "version": 3
   },
   "file_extension": ".py",
   "mimetype": "text/x-python",
   "name": "python",
   "nbconvert_exporter": "python",
   "pygments_lexer": "ipython3",
   "version": "3.6.0"
  }
 },
 "nbformat": 4,
 "nbformat_minor": 2
}
