{
 "cells": [
  {
   "cell_type": "markdown",
   "metadata": {},
   "source": [
    "# Test of DiffVis"
   ]
  },
  {
   "cell_type": "markdown",
   "metadata": {},
   "source": [
    "## Settings"
   ]
  },
  {
   "cell_type": "code",
   "execution_count": 1,
   "metadata": {
    "collapsed": true
   },
   "outputs": [],
   "source": [
    "import sys\n",
    "from IPython.display import HTML"
   ]
  },
  {
   "cell_type": "code",
   "execution_count": 2,
   "metadata": {
    "collapsed": false
   },
   "outputs": [],
   "source": [
    "sys.path.append('../../')\n",
    "from DiffVis.diffvis import DiffVis"
   ]
  },
  {
   "cell_type": "code",
   "execution_count": 3,
   "metadata": {
    "collapsed": true
   },
   "outputs": [],
   "source": [
    "sys.setrecursionlimit(2000)"
   ]
  },
  {
   "cell_type": "markdown",
   "metadata": {},
   "source": [
    "## Test"
   ]
  },
  {
   "cell_type": "code",
   "execution_count": 4,
   "metadata": {
    "collapsed": false
   },
   "outputs": [
    {
     "name": "stdout",
     "output_type": "stream",
     "text": [
      "14 16\n"
     ]
    }
   ],
   "source": [
    "source = 'すももも桃も桃のうち1234'\n",
    "target = 'すもももももももものうち1244'\n",
    "m, n = len(source), len(target)\n",
    "print(m, n)"
   ]
  },
  {
   "cell_type": "code",
   "execution_count": 5,
   "metadata": {
    "collapsed": false
   },
   "outputs": [],
   "source": [
    "dv = DiffVis(source, target)\n",
    "dv.build()"
   ]
  },
  {
   "cell_type": "code",
   "execution_count": 6,
   "metadata": {
    "collapsed": false
   },
   "outputs": [
    {
     "name": "stdout",
     "output_type": "stream",
     "text": [
      "0.3125\n",
      "5\n"
     ]
    }
   ],
   "source": [
    "print(dv.distance(normalize=True))\n",
    "print(dv.distance(normalize=False))"
   ]
  },
  {
   "cell_type": "code",
   "execution_count": 7,
   "metadata": {
    "collapsed": false
   },
   "outputs": [
    {
     "data": {
      "text/plain": [
       "((0, 1, 2, 3, 4, 5, 6, 7, 8, 9, 10, 11, 12, 13, 14, 15, 16),\n",
       " (1, 0, 1, 2, 3, 4, 5, 6, 7, 8, 9, 10, 11, 12, 13, 14, 15),\n",
       " (2, 1, 0, 1, 2, 3, 4, 5, 6, 7, 8, 9, 10, 11, 12, 13, 14),\n",
       " (3, 2, 1, 0, 1, 2, 3, 4, 5, 6, 7, 8, 9, 10, 11, 12, 13),\n",
       " (4, 3, 2, 1, 0, 1, 2, 3, 4, 5, 6, 7, 8, 9, 10, 11, 12),\n",
       " (5, 4, 3, 2, 1, 1, 2, 3, 4, 5, 6, 7, 8, 9, 10, 11, 12),\n",
       " (6, 5, 4, 3, 2, 1, 1, 2, 3, 4, 5, 6, 7, 8, 9, 10, 11),\n",
       " (7, 6, 5, 4, 3, 2, 2, 2, 3, 4, 5, 6, 7, 8, 9, 10, 11),\n",
       " (8, 7, 6, 5, 4, 3, 3, 3, 3, 4, 4, 5, 6, 7, 8, 9, 10),\n",
       " (9, 8, 7, 6, 5, 4, 4, 4, 4, 4, 5, 4, 5, 6, 7, 8, 9),\n",
       " (10, 9, 8, 7, 6, 5, 5, 5, 5, 5, 5, 5, 4, 5, 6, 7, 8),\n",
       " (11, 10, 9, 8, 7, 6, 6, 6, 6, 6, 6, 6, 5, 4, 5, 6, 7),\n",
       " (12, 11, 10, 9, 8, 7, 7, 7, 7, 7, 7, 7, 6, 5, 4, 5, 6),\n",
       " (13, 12, 11, 10, 9, 8, 8, 8, 8, 8, 8, 8, 7, 6, 5, 5, 6),\n",
       " (14, 13, 12, 11, 10, 9, 9, 9, 9, 9, 9, 9, 8, 7, 6, 5, 5))"
      ]
     },
     "execution_count": 7,
     "metadata": {},
     "output_type": "execute_result"
    }
   ],
   "source": [
    "dv.cost_table"
   ]
  },
  {
   "cell_type": "code",
   "execution_count": 8,
   "metadata": {
    "collapsed": false,
    "scrolled": true
   },
   "outputs": [
    {
     "name": "stdout",
     "output_type": "stream",
     "text": [
      "Edit History\n",
      "\tmatch\n",
      "\tmatch\n",
      "\tmatch\n",
      "\tmatch\n",
      "\treplace\n",
      "\tmatch\n",
      "\treplace\n",
      "\tinsert\n",
      "\tinsert\n",
      "\tmatch\n",
      "\tmatch\n",
      "\tmatch\n",
      "\tmatch\n",
      "\tmatch\n",
      "\treplace\n",
      "\tmatch\n"
     ]
    }
   ],
   "source": [
    "print(dv.format_edit_history())"
   ]
  },
  {
   "cell_type": "code",
   "execution_count": 9,
   "metadata": {
    "collapsed": false
   },
   "outputs": [
    {
     "name": "stdout",
     "output_type": "stream",
     "text": [
      "\u001b[32mす\u001b[0m\u001b[32mも\u001b[0m\u001b[32mも\u001b[0m\u001b[32mも\u001b[0m\u001b[31m桃\u001b[0m\u001b[32mも\u001b[0m\u001b[31m桃\u001b[0m\u001b[32m　\u001b[0m\u001b[32m　\u001b[0m\u001b[32mの\u001b[0m\u001b[32mう\u001b[0m\u001b[32mち\u001b[0m\u001b[32m 1\u001b[0m\u001b[32m 2\u001b[0m\u001b[31m 3\u001b[0m\u001b[32m 4\u001b[0m\n",
      "\u001b[32mす\u001b[0m\u001b[32mも\u001b[0m\u001b[32mも\u001b[0m\u001b[32mも\u001b[0m\u001b[34mも\u001b[0m\u001b[32mも\u001b[0m\u001b[34mも\u001b[0m\u001b[34mも\u001b[0m\u001b[34mも\u001b[0m\u001b[32mの\u001b[0m\u001b[32mう\u001b[0m\u001b[32mち\u001b[0m\u001b[32m 1\u001b[0m\u001b[32m 2\u001b[0m\u001b[34m 4\u001b[0m\u001b[32m 4\u001b[0m\n"
     ]
    }
   ],
   "source": [
    "print(dv.visualize(mode='console', padding=True))"
   ]
  },
  {
   "cell_type": "code",
   "execution_count": 10,
   "metadata": {
    "collapsed": false
   },
   "outputs": [
    {
     "name": "stdout",
     "output_type": "stream",
     "text": [
      "\u001b[32mす\u001b[0m\u001b[32mも\u001b[0m\u001b[32mも\u001b[0m\u001b[32mも\u001b[0m\u001b[31m桃\u001b[0m\u001b[32mも\u001b[0m\u001b[31m桃\u001b[0m\u001b[32m\u001b[0m\u001b[32m\u001b[0m\u001b[32mの\u001b[0m\u001b[32mう\u001b[0m\u001b[32mち\u001b[0m\u001b[32m1\u001b[0m\u001b[32m2\u001b[0m\u001b[31m3\u001b[0m\u001b[32m4\u001b[0m\n",
      "\u001b[32mす\u001b[0m\u001b[32mも\u001b[0m\u001b[32mも\u001b[0m\u001b[32mも\u001b[0m\u001b[34mも\u001b[0m\u001b[32mも\u001b[0m\u001b[34mも\u001b[0m\u001b[34mも\u001b[0m\u001b[34mも\u001b[0m\u001b[32mの\u001b[0m\u001b[32mう\u001b[0m\u001b[32mち\u001b[0m\u001b[32m1\u001b[0m\u001b[32m2\u001b[0m\u001b[34m4\u001b[0m\u001b[32m4\u001b[0m\n"
     ]
    }
   ],
   "source": [
    "print(dv.visualize(mode='console', padding=False))"
   ]
  },
  {
   "cell_type": "code",
   "execution_count": 11,
   "metadata": {
    "collapsed": false
   },
   "outputs": [
    {
     "data": {
      "text/html": [
       "<span style=\"color: green;\">す</span><span style=\"color: green;\">も</span><span style=\"color: green;\">も</span><span style=\"color: green;\">も</span><span style=\"color: red;\">桃</span><span style=\"color: green;\">も</span><span style=\"color: red;\">桃</span><span style=\"color: green;\">　</span><span style=\"color: green;\">　</span><span style=\"color: green;\">の</span><span style=\"color: green;\">う</span><span style=\"color: green;\">ち</span><span style=\"color: green;\"> 1</span><span style=\"color: green;\"> 2</span><span style=\"color: red;\"> 3</span><span style=\"color: green;\"> 4</span><br><span style=\"color: green;\">す</span><span style=\"color: green;\">も</span><span style=\"color: green;\">も</span><span style=\"color: green;\">も</span><span style=\"color: blue;\">も</span><span style=\"color: green;\">も</span><span style=\"color: blue;\">も</span><span style=\"color: blue;\">も</span><span style=\"color: blue;\">も</span><span style=\"color: green;\">の</span><span style=\"color: green;\">う</span><span style=\"color: green;\">ち</span><span style=\"color: green;\"> 1</span><span style=\"color: green;\"> 2</span><span style=\"color: blue;\"> 4</span><span style=\"color: green;\"> 4</span>"
      ],
      "text/plain": [
       "<IPython.core.display.HTML object>"
      ]
     },
     "execution_count": 11,
     "metadata": {},
     "output_type": "execute_result"
    }
   ],
   "source": [
    "HTML(dv.visualize(mode='html', padding=True))"
   ]
  },
  {
   "cell_type": "code",
   "execution_count": 12,
   "metadata": {
    "collapsed": false,
    "scrolled": true
   },
   "outputs": [
    {
     "data": {
      "text/html": [
       "<span style=\"color: green;\">す</span><span style=\"color: green;\">も</span><span style=\"color: green;\">も</span><span style=\"color: green;\">も</span><span style=\"color: red;\">桃</span><span style=\"color: green;\">も</span><span style=\"color: red;\">桃</span><span style=\"color: green;\"></span><span style=\"color: green;\"></span><span style=\"color: green;\">の</span><span style=\"color: green;\">う</span><span style=\"color: green;\">ち</span><span style=\"color: green;\">1</span><span style=\"color: green;\">2</span><span style=\"color: red;\">3</span><span style=\"color: green;\">4</span><br><span style=\"color: green;\">す</span><span style=\"color: green;\">も</span><span style=\"color: green;\">も</span><span style=\"color: green;\">も</span><span style=\"color: blue;\">も</span><span style=\"color: green;\">も</span><span style=\"color: blue;\">も</span><span style=\"color: blue;\">も</span><span style=\"color: blue;\">も</span><span style=\"color: green;\">の</span><span style=\"color: green;\">う</span><span style=\"color: green;\">ち</span><span style=\"color: green;\">1</span><span style=\"color: green;\">2</span><span style=\"color: blue;\">4</span><span style=\"color: green;\">4</span>"
      ],
      "text/plain": [
       "<IPython.core.display.HTML object>"
      ]
     },
     "execution_count": 12,
     "metadata": {},
     "output_type": "execute_result"
    }
   ],
   "source": [
    "HTML(dv.visualize(mode='html', padding=False))"
   ]
  },
  {
   "cell_type": "code",
   "execution_count": 13,
   "metadata": {
    "collapsed": false
   },
   "outputs": [
    {
     "data": {
      "text/html": [
       "<table style=\"table-layout: fixed;\"><tr><td style=\"text-align=center\"><span style=\"color: green;\">す</span></td><td style=\"text-align=center\"><span style=\"color: green;\">も</span></td><td style=\"text-align=center\"><span style=\"color: green;\">も</span></td><td style=\"text-align=center\"><span style=\"color: green;\">も</span></td><td style=\"text-align=center\"><span style=\"color: red;\">桃</span></td><td style=\"text-align=center\"><span style=\"color: green;\">も</span></td><td style=\"text-align=center\"><span style=\"color: red;\">桃</span></td><td style=\"text-align=center\"><span style=\"color: green;\"></span></td><td style=\"text-align=center\"><span style=\"color: green;\"></span></td><td style=\"text-align=center\"><span style=\"color: green;\">の</span></td><td style=\"text-align=center\"><span style=\"color: green;\">う</span></td><td style=\"text-align=center\"><span style=\"color: green;\">ち</span></td><td style=\"text-align=center\"><span style=\"color: green;\">1</span></td><td style=\"text-align=center\"><span style=\"color: green;\">2</span></td><td style=\"text-align=center\"><span style=\"color: red;\">3</span></td><td style=\"text-align=center\"><span style=\"color: green;\">4</span></td></tr><tr><td style=\"text-align=center\"><span style=\"color: green;\">す</span></td><td style=\"text-align=center\"><span style=\"color: green;\">も</span></td><td style=\"text-align=center\"><span style=\"color: green;\">も</span></td><td style=\"text-align=center\"><span style=\"color: green;\">も</span></td><td style=\"text-align=center\"><span style=\"color: blue;\">も</span></td><td style=\"text-align=center\"><span style=\"color: green;\">も</span></td><td style=\"text-align=center\"><span style=\"color: blue;\">も</span></td><td style=\"text-align=center\"><span style=\"color: blue;\">も</span></td><td style=\"text-align=center\"><span style=\"color: blue;\">も</span></td><td style=\"text-align=center\"><span style=\"color: green;\">の</span></td><td style=\"text-align=center\"><span style=\"color: green;\">う</span></td><td style=\"text-align=center\"><span style=\"color: green;\">ち</span></td><td style=\"text-align=center\"><span style=\"color: green;\">1</span></td><td style=\"text-align=center\"><span style=\"color: green;\">2</span></td><td style=\"text-align=center\"><span style=\"color: blue;\">4</span></td><td style=\"text-align=center\"><span style=\"color: green;\">4</span></td></tr></table>"
      ],
      "text/plain": [
       "<IPython.core.display.HTML object>"
      ]
     },
     "execution_count": 13,
     "metadata": {},
     "output_type": "execute_result"
    }
   ],
   "source": [
    "HTML(dv.visualize(mode='htmltab'))"
   ]
  },
  {
   "cell_type": "code",
   "execution_count": 14,
   "metadata": {
    "collapsed": false
   },
   "outputs": [
    {
     "data": {
      "text/plain": [
       "'すももも<blank>も<blank>のうち12<blank>4'"
      ]
     },
     "execution_count": 14,
     "metadata": {},
     "output_type": "execute_result"
    }
   ],
   "source": [
    "dv.template(use_str=True)"
   ]
  },
  {
   "cell_type": "code",
   "execution_count": 15,
   "metadata": {
    "collapsed": false
   },
   "outputs": [
    {
     "data": {
      "text/plain": [
       "['す',\n",
       " 'も',\n",
       " 'も',\n",
       " 'も',\n",
       " '<blank>',\n",
       " 'も',\n",
       " '<blank>',\n",
       " 'の',\n",
       " 'う',\n",
       " 'ち',\n",
       " '1',\n",
       " '2',\n",
       " '<blank>',\n",
       " '4']"
      ]
     },
     "execution_count": 15,
     "metadata": {},
     "output_type": "execute_result"
    }
   ],
   "source": [
    "dv.template()"
   ]
  },
  {
   "cell_type": "code",
   "execution_count": 20,
   "metadata": {
    "collapsed": false
   },
   "outputs": [
    {
     "name": "stdout",
     "output_type": "stream",
     "text": [
      "\u001b[32mす\u001b[0m\u001b[32mも\u001b[0m\u001b[32mも\u001b[0m\u001b[32mも\u001b[0m\u001b[31m桃\u001b[0m\u001b[32mも\u001b[0m\u001b[31m桃\u001b[0m\u001b[32m　\u001b[0m\u001b[32m　\u001b[0m\u001b[32mの\u001b[0m\u001b[32mう\u001b[0m\u001b[32mち\u001b[0m\u001b[32m 1\u001b[0m\u001b[32m 2\u001b[0m\u001b[31m 3\u001b[0m\u001b[32m 4\u001b[0m\n",
      "\u001b[32mす\u001b[0m\u001b[32mも\u001b[0m\u001b[32mも\u001b[0m\u001b[32mも\u001b[0m\u001b[34mも\u001b[0m\u001b[32mも\u001b[0m\u001b[34mも\u001b[0m\u001b[34mも\u001b[0m\u001b[34mも\u001b[0m\u001b[32mの\u001b[0m\u001b[32mう\u001b[0m\u001b[32mち\u001b[0m\u001b[32m 1\u001b[0m\u001b[32m 2\u001b[0m\u001b[34m 4\u001b[0m\u001b[32m 4\u001b[0m\n"
     ]
    },
    {
     "data": {
      "text/html": [
       "<span style=\"color: green;\">す</span><span style=\"color: green;\">も</span><span style=\"color: green;\">も</span><span style=\"color: green;\">も</span><span style=\"color: red;\">桃</span><span style=\"color: green;\">も</span><span style=\"color: red;\">桃</span><span style=\"color: green;\">　</span><span style=\"color: green;\">　</span><span style=\"color: green;\">の</span><span style=\"color: green;\">う</span><span style=\"color: green;\">ち</span><span style=\"color: green;\"> 1</span><span style=\"color: green;\"> 2</span><span style=\"color: red;\"> 3</span><span style=\"color: green;\"> 4</span><br><span style=\"color: green;\">す</span><span style=\"color: green;\">も</span><span style=\"color: green;\">も</span><span style=\"color: green;\">も</span><span style=\"color: blue;\">も</span><span style=\"color: green;\">も</span><span style=\"color: blue;\">も</span><span style=\"color: blue;\">も</span><span style=\"color: blue;\">も</span><span style=\"color: green;\">の</span><span style=\"color: green;\">う</span><span style=\"color: green;\">ち</span><span style=\"color: green;\"> 1</span><span style=\"color: green;\"> 2</span><span style=\"color: blue;\"> 4</span><span style=\"color: green;\"> 4</span>"
      ],
      "text/plain": [
       "<IPython.core.display.HTML object>"
      ]
     },
     "execution_count": 20,
     "metadata": {},
     "output_type": "execute_result"
    }
   ],
   "source": [
    "source = 'すももも桃も桃のうち1234'\n",
    "target = 'すもももももももものうち1244'\n",
    "dv = DiffVis(source, target)\n",
    "dv.build()\n",
    "print(dv.visualize(mode='console', padding=True))\n",
    "HTML(dv.visualize(mode='html', padding=True))\n",
    "#HTML(dv.visualize(mode='htmltab'))"
   ]
  },
  {
   "cell_type": "code",
   "execution_count": 21,
   "metadata": {
    "collapsed": false
   },
   "outputs": [
    {
     "data": {
      "text/plain": [
       "'<span style=\"color: green;\">す</span><span style=\"color: green;\">も</span><span style=\"color: green;\">も</span><span style=\"color: green;\">も</span><span style=\"color: red;\">桃</span><span style=\"color: green;\">も</span><span style=\"color: red;\">桃</span><span style=\"color: green;\">\\u3000</span><span style=\"color: green;\">\\u3000</span><span style=\"color: green;\">の</span><span style=\"color: green;\">う</span><span style=\"color: green;\">ち</span><span style=\"color: green;\"> 1</span><span style=\"color: green;\"> 2</span><span style=\"color: red;\"> 3</span><span style=\"color: green;\"> 4</span><br><span style=\"color: green;\">す</span><span style=\"color: green;\">も</span><span style=\"color: green;\">も</span><span style=\"color: green;\">も</span><span style=\"color: blue;\">も</span><span style=\"color: green;\">も</span><span style=\"color: blue;\">も</span><span style=\"color: blue;\">も</span><span style=\"color: blue;\">も</span><span style=\"color: green;\">の</span><span style=\"color: green;\">う</span><span style=\"color: green;\">ち</span><span style=\"color: green;\"> 1</span><span style=\"color: green;\"> 2</span><span style=\"color: blue;\"> 4</span><span style=\"color: green;\"> 4</span>'"
      ]
     },
     "execution_count": 21,
     "metadata": {},
     "output_type": "execute_result"
    }
   ],
   "source": [
    "dv.visualize(mode='html', padding=True)"
   ]
  },
  {
   "cell_type": "markdown",
   "metadata": {},
   "source": [
    "## Test of Console Imprementation"
   ]
  },
  {
   "cell_type": "code",
   "execution_count": 18,
   "metadata": {
    "collapsed": false
   },
   "outputs": [
    {
     "name": "stdout",
     "output_type": "stream",
     "text": [
      "Levenshtein Distance: 4\n",
      "Normalized Levenshtein Distance: 0.333\n",
      "\n",
      "Cost Table\n",
      "-----------------------------------------------------------------------\n",
      "|    |    |   す|   も|   も|   も|   も|   も|   も|   も|   も|   の|   う|   ち|\n",
      "-----------------------------------------------------------------------\n",
      "|    |   0|   1|   2|   3|   4|   5|   6|   7|   8|   9|  10|  11|  12|\n",
      "-----------------------------------------------------------------------\n",
      "|   す|   1|   0|   1|   2|   3|   4|   5|   6|   7|   8|   9|  10|  11|\n",
      "-----------------------------------------------------------------------\n",
      "|   も|   2|   1|   0|   1|   2|   3|   4|   5|   6|   7|   8|   9|  10|\n",
      "-----------------------------------------------------------------------\n",
      "|   も|   3|   2|   1|   0|   1|   2|   3|   4|   5|   6|   7|   8|   9|\n",
      "-----------------------------------------------------------------------\n",
      "|   も|   4|   3|   2|   1|   0|   1|   2|   3|   4|   5|   6|   7|   8|\n",
      "-----------------------------------------------------------------------\n",
      "|   桃|   5|   4|   3|   2|   1|   1|   2|   3|   4|   5|   6|   7|   8|\n",
      "-----------------------------------------------------------------------\n",
      "|   も|   6|   5|   4|   3|   2|   1|   1|   2|   3|   4|   5|   6|   7|\n",
      "-----------------------------------------------------------------------\n",
      "|   桃|   7|   6|   5|   4|   3|   2|   2|   2|   3|   4|   5|   6|   7|\n",
      "-----------------------------------------------------------------------\n",
      "|   の|   8|   7|   6|   5|   4|   3|   3|   3|   3|   4|   4|   5|   6|\n",
      "-----------------------------------------------------------------------\n",
      "|   う|   9|   8|   7|   6|   5|   4|   4|   4|   4|   4|   5|   4|   5|\n",
      "-----------------------------------------------------------------------\n",
      "|   ち|  10|   9|   8|   7|   6|   5|   5|   5|   5|   5|   5|   5|   4|\n",
      "-----------------------------------------------------------------------\n",
      "\n",
      "Edit History\n",
      "\tmatch\n",
      "\tmatch\n",
      "\tmatch\n",
      "\tmatch\n",
      "\treplace\n",
      "\tmatch\n",
      "\treplace\n",
      "\tinsert\n",
      "\tinsert\n",
      "\tmatch\n",
      "\tmatch\n",
      "\tmatch\n"
     ]
    }
   ],
   "source": [
    "!python ../edit_distance.py すももも桃も桃のうち すもももももももものうち -a"
   ]
  },
  {
   "cell_type": "code",
   "execution_count": 19,
   "metadata": {
    "collapsed": false
   },
   "outputs": [
    {
     "name": "stderr",
     "output_type": "stream",
     "text": [
      "Traceback (most recent call last):\n",
      "  File \"../diffvis.py\", line 12, in <module>\n",
      "    from .edit_distance import Levenshtein, format_cost_table, format_edit_history\n",
      "ModuleNotFoundError: No module named '__main__.edit_distance'; '__main__' is not a package\n"
     ]
    }
   ],
   "source": [
    "!python ../diffvis.py すももも桃も桃のうち すもももももももものうち -p"
   ]
  }
 ],
 "metadata": {
  "kernelspec": {
   "display_name": "Python 3",
   "language": "python",
   "name": "python3"
  },
  "language_info": {
   "codemirror_mode": {
    "name": "ipython",
    "version": 3
   },
   "file_extension": ".py",
   "mimetype": "text/x-python",
   "name": "python",
   "nbconvert_exporter": "python",
   "pygments_lexer": "ipython3",
   "version": "3.6.0"
  }
 },
 "nbformat": 4,
 "nbformat_minor": 2
}
