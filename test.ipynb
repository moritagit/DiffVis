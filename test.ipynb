{
 "cells": [
  {
   "cell_type": "markdown",
   "metadata": {},
   "source": [
    "# Test of DiffVis"
   ]
  },
  {
   "cell_type": "markdown",
   "metadata": {},
   "source": [
    "## Settings"
   ]
  },
  {
   "cell_type": "code",
   "execution_count": 1,
   "metadata": {
    "collapsed": false
   },
   "outputs": [],
   "source": [
    "import functools\n",
    "import html\n",
    "import pathlib\n",
    "from pprint import pprint\n",
    "import re\n",
    "import sys\n",
    "import unicodedata"
   ]
  },
  {
   "cell_type": "code",
   "execution_count": 2,
   "metadata": {
    "collapsed": true
   },
   "outputs": [],
   "source": [
    "import MeCab\n",
    "from IPython.display import HTML"
   ]
  },
  {
   "cell_type": "code",
   "execution_count": 3,
   "metadata": {
    "collapsed": false
   },
   "outputs": [],
   "source": [
    "sys.path.append('../')\n",
    "from DiffVis.diffvis import DiffVis"
   ]
  },
  {
   "cell_type": "markdown",
   "metadata": {},
   "source": [
    "## Define"
   ]
  },
  {
   "cell_type": "code",
   "execution_count": 4,
   "metadata": {
    "collapsed": true
   },
   "outputs": [],
   "source": [
    "def make_template(source, target, edit_history):\n",
    "    template = []\n",
    "    blank = '<blank>'\n",
    "    i, j = 0, 0\n",
    "    for operation in edit_history:\n",
    "        if operation == 'match':\n",
    "            template.append(source[i])\n",
    "            i += 1\n",
    "            j += 1\n",
    "        elif operation == 'replace':\n",
    "            template.append(blank)\n",
    "            i += 1\n",
    "            j += 1\n",
    "        elif operation == 'delete':\n",
    "            template.append(blank)            \n",
    "            i += 1\n",
    "        elif operation == 'insert':\n",
    "            template.append(blank)\n",
    "            j += 1\n",
    "\n",
    "    if not template:\n",
    "        return template\n",
    "    \n",
    "    # delete duplicates\n",
    "    template_new = [template[0]]\n",
    "    for i in range(1, len(template)):\n",
    "        elem_now = template[i]\n",
    "        elem_last = template[i-1]\n",
    "        if (elem_now == blank) and (elem_last == blank):\n",
    "            continue\n",
    "        else:\n",
    "            template_new.append(elem_now)\n",
    "    template = template_new\n",
    "    return template"
   ]
  },
  {
   "cell_type": "code",
   "execution_count": 5,
   "metadata": {
    "collapsed": true
   },
   "outputs": [],
   "source": [
    "class Tokenizer(object):\n",
    "    \"\"\"Tokenize Japanese sentence to words.\n",
    "\n",
    "    Args:\n",
    "        mecab_dict_path (str or pathlib.Path): Path to MeCab dictionary.\n",
    "        parts_of_speech (list[str]): List that contains part of speeches to be extracted.\n",
    "            If None (default), these are used:\n",
    "                [\n",
    "                    '名詞', '動詞', '形容詞', '副詞', '助詞',\n",
    "                    '接続詞', '助動詞', '連体詞', '感動詞',\n",
    "                ]\n",
    "        normalize (bool): Flag to determine whether to transform to base form or not.\n",
    "            Defaults to False.\n",
    "\n",
    "    Attributes:\n",
    "        tagger (MeCab.Tagger): Tagger.\n",
    "        parts_of_speech (list[str]): List that contains part of speeches to be extracted.\n",
    "        normalize (bool): Flag to determine whether to transform to base form or not.\n",
    "    \"\"\"\n",
    "    def __init__(self, mecab_dict_path='', parts_of_speech=None, normalize=False,):\n",
    "        added = ''\n",
    "        if mecab_dict_path:\n",
    "            added = ' -d' + str(mecab_dict_path)\n",
    "        self.tagger = MeCab.Tagger('-Ochasen' + added)\n",
    "        self.tagger.parse('')\n",
    "        if parts_of_speech:\n",
    "            self.parts_of_speech = parts_of_speech\n",
    "        else:\n",
    "            self.parts_of_speech = [\n",
    "                '名詞', '動詞', '形容詞', '副詞', '助詞',\n",
    "                '接続詞', '助動詞', '連体詞', '感動詞',\n",
    "                ]\n",
    "        self.normalize = normalize\n",
    "\n",
    "    def tokenize(self, sentence):\n",
    "        \"\"\"Tokenize Japanese sentence to words.\n",
    "\n",
    "        Args:\n",
    "            sentence (str): Sentence to tokenize.\n",
    "\n",
    "        Returns:\n",
    "            words (list[str]): Extracted words.\n",
    "        \"\"\"\n",
    "        res = self.tagger.parseToNode(sentence)\n",
    "        words = []\n",
    "        if self.normalize:\n",
    "            while res:\n",
    "                content = res.feature.split(',')\n",
    "                part_of_speech = content[0]\n",
    "                if part_of_speech in self.parts_of_speech:\n",
    "                    word = content[6]\n",
    "                    if word == '*':\n",
    "                        word = res.surface\n",
    "                    words.append(word)\n",
    "                res = res.next\n",
    "        else:\n",
    "            while res:\n",
    "                word = res.surface\n",
    "                part_of_speech = res.feature.split(',')[0]\n",
    "                if part_of_speech in self.parts_of_speech:\n",
    "                    words.append(word)\n",
    "                res = res.next\n",
    "        return words"
   ]
  },
  {
   "cell_type": "markdown",
   "metadata": {},
   "source": [
    "## Toy Data"
   ]
  },
  {
   "cell_type": "markdown",
   "metadata": {},
   "source": [
    "### Simple string"
   ]
  },
  {
   "cell_type": "code",
   "execution_count": 6,
   "metadata": {
    "collapsed": false
   },
   "outputs": [
    {
     "name": "stdout",
     "output_type": "stream",
     "text": [
      "10 12\n"
     ]
    }
   ],
   "source": [
    "source = 'すももも桃も桃のうち'\n",
    "target = 'すもももももももものうち'\n",
    "m, n = len(source), len(target)\n",
    "print(m, n)"
   ]
  },
  {
   "cell_type": "code",
   "execution_count": 7,
   "metadata": {
    "collapsed": false
   },
   "outputs": [],
   "source": [
    "dv = DiffVis(source, target)\n",
    "dv.build()"
   ]
  },
  {
   "cell_type": "code",
   "execution_count": 8,
   "metadata": {
    "collapsed": false
   },
   "outputs": [
    {
     "name": "stdout",
     "output_type": "stream",
     "text": [
      "0.3333333333333333\n",
      "4\n"
     ]
    }
   ],
   "source": [
    "print(dv.distance(normalize=True))\n",
    "print(dv.distance(normalize=False))"
   ]
  },
  {
   "cell_type": "code",
   "execution_count": 9,
   "metadata": {
    "collapsed": false
   },
   "outputs": [
    {
     "data": {
      "text/plain": [
       "((0, 1, 2, 3, 4, 5, 6, 7, 8, 9, 10, 11, 12),\n",
       " (1, 0, 1, 2, 3, 4, 5, 6, 7, 8, 9, 10, 11),\n",
       " (2, 1, 0, 1, 2, 3, 4, 5, 6, 7, 8, 9, 10),\n",
       " (3, 2, 1, 0, 1, 2, 3, 4, 5, 6, 7, 8, 9),\n",
       " (4, 3, 2, 1, 0, 1, 2, 3, 4, 5, 6, 7, 8),\n",
       " (5, 4, 3, 2, 1, 1, 2, 3, 4, 5, 6, 7, 8),\n",
       " (6, 5, 4, 3, 2, 1, 1, 2, 3, 4, 5, 6, 7),\n",
       " (7, 6, 5, 4, 3, 2, 2, 2, 3, 4, 5, 6, 7),\n",
       " (8, 7, 6, 5, 4, 3, 3, 3, 3, 4, 4, 5, 6),\n",
       " (9, 8, 7, 6, 5, 4, 4, 4, 4, 4, 5, 4, 5),\n",
       " (10, 9, 8, 7, 6, 5, 5, 5, 5, 5, 5, 5, 4))"
      ]
     },
     "execution_count": 9,
     "metadata": {},
     "output_type": "execute_result"
    }
   ],
   "source": [
    "dv.cost_table"
   ]
  },
  {
   "cell_type": "code",
   "execution_count": 10,
   "metadata": {
    "collapsed": false,
    "scrolled": true
   },
   "outputs": [
    {
     "data": {
      "text/plain": [
       "('match',\n",
       " 'match',\n",
       " 'match',\n",
       " 'match',\n",
       " 'replace',\n",
       " 'match',\n",
       " 'replace',\n",
       " 'insert',\n",
       " 'insert',\n",
       " 'match',\n",
       " 'match',\n",
       " 'match')"
      ]
     },
     "execution_count": 10,
     "metadata": {},
     "output_type": "execute_result"
    }
   ],
   "source": [
    "dv.edit_history"
   ]
  },
  {
   "cell_type": "code",
   "execution_count": 11,
   "metadata": {
    "collapsed": false
   },
   "outputs": [
    {
     "name": "stdout",
     "output_type": "stream",
     "text": [
      "\u001b[32mす\u001b[0m\u001b[32mも\u001b[0m\u001b[32mも\u001b[0m\u001b[32mも\u001b[0m\u001b[31m桃\u001b[0m\u001b[32mも\u001b[0m\u001b[31m桃\u001b[0m\u001b[32m \u001b[0m\u001b[32m \u001b[0m\u001b[32mの\u001b[0m\u001b[32mう\u001b[0m\u001b[32mち\u001b[0m\n",
      "\u001b[32mす\u001b[0m\u001b[32mも\u001b[0m\u001b[32mも\u001b[0m\u001b[32mも\u001b[0m\u001b[34mも\u001b[0m\u001b[32mも\u001b[0m\u001b[34mも\u001b[0m\u001b[34mも\u001b[0m\u001b[34mも\u001b[0m\u001b[32mの\u001b[0m\u001b[32mう\u001b[0m\u001b[32mち\u001b[0m\n"
     ]
    }
   ],
   "source": [
    "print(dv.generate_comparison(mode='console'))"
   ]
  },
  {
   "cell_type": "code",
   "execution_count": 12,
   "metadata": {
    "collapsed": false,
    "scrolled": true
   },
   "outputs": [
    {
     "data": {
      "text/html": [
       "<span style=\"color: green;\">す</span><span style=\"color: green;\">も</span><span style=\"color: green;\">も</span><span style=\"color: green;\">も</span><span style=\"color: red;\">桃</span><span style=\"color: green;\">も</span><span style=\"color: red;\">桃</span><span style=\"color: green;\"> </span><span style=\"color: green;\"> </span><span style=\"color: green;\">の</span><span style=\"color: green;\">う</span><span style=\"color: green;\">ち</span><br><span style=\"color: green;\">す</span><span style=\"color: green;\">も</span><span style=\"color: green;\">も</span><span style=\"color: green;\">も</span><span style=\"color: blue;\">も</span><span style=\"color: green;\">も</span><span style=\"color: blue;\">も</span><span style=\"color: blue;\">も</span><span style=\"color: blue;\">も</span><span style=\"color: green;\">の</span><span style=\"color: green;\">う</span><span style=\"color: green;\">ち</span>"
      ],
      "text/plain": [
       "<IPython.core.display.HTML object>"
      ]
     },
     "execution_count": 12,
     "metadata": {},
     "output_type": "execute_result"
    }
   ],
   "source": [
    "HTML(dv.generate_comparison(mode='html'))"
   ]
  },
  {
   "cell_type": "code",
   "execution_count": 13,
   "metadata": {
    "collapsed": false
   },
   "outputs": [
    {
     "data": {
      "text/html": [
       "<table style=\"table-layout: fixed;\"><tr><td style=\"text-align=center\"><span style=\"color: green;\">す</span></td><td style=\"text-align=center\"><span style=\"color: green;\">も</span></td><td style=\"text-align=center\"><span style=\"color: green;\">も</span></td><td style=\"text-align=center\"><span style=\"color: green;\">も</span></td><td style=\"text-align=center\"><span style=\"color: red;\">桃</span></td><td style=\"text-align=center\"><span style=\"color: green;\">も</span></td><td style=\"text-align=center\"><span style=\"color: red;\">桃</span></td><td style=\"text-align=center\"><span style=\"color: green;\"> </span></td><td style=\"text-align=center\"><span style=\"color: green;\"> </span></td><td style=\"text-align=center\"><span style=\"color: green;\">の</span></td><td style=\"text-align=center\"><span style=\"color: green;\">う</span></td><td style=\"text-align=center\"><span style=\"color: green;\">ち</span></td></tr><tr><td style=\"text-align=center\"><span style=\"color: green;\">す</span></td><td style=\"text-align=center\"><span style=\"color: green;\">も</span></td><td style=\"text-align=center\"><span style=\"color: green;\">も</span></td><td style=\"text-align=center\"><span style=\"color: green;\">も</span></td><td style=\"text-align=center\"><span style=\"color: blue;\">も</span></td><td style=\"text-align=center\"><span style=\"color: green;\">も</span></td><td style=\"text-align=center\"><span style=\"color: blue;\">も</span></td><td style=\"text-align=center\"><span style=\"color: blue;\">も</span></td><td style=\"text-align=center\"><span style=\"color: blue;\">も</span></td><td style=\"text-align=center\"><span style=\"color: green;\">の</span></td><td style=\"text-align=center\"><span style=\"color: green;\">う</span></td><td style=\"text-align=center\"><span style=\"color: green;\">ち</span></td></tr></table>"
      ],
      "text/plain": [
       "<IPython.core.display.HTML object>"
      ]
     },
     "execution_count": 13,
     "metadata": {},
     "output_type": "execute_result"
    }
   ],
   "source": [
    "HTML(dv.generate_comparison(mode='htmltab'))"
   ]
  },
  {
   "cell_type": "code",
   "execution_count": 14,
   "metadata": {
    "collapsed": false
   },
   "outputs": [
    {
     "data": {
      "text/plain": [
       "['す', 'も', 'も', 'も', '<blank>', 'も', '<blank>', 'の', 'う', 'ち']"
      ]
     },
     "execution_count": 14,
     "metadata": {},
     "output_type": "execute_result"
    }
   ],
   "source": [
    "make_template(source, target, dv.edit_history)"
   ]
  },
  {
   "cell_type": "markdown",
   "metadata": {},
   "source": [
    "### Tokenize"
   ]
  },
  {
   "cell_type": "code",
   "execution_count": 15,
   "metadata": {
    "collapsed": false
   },
   "outputs": [],
   "source": [
    "tokenizer = Tokenizer()"
   ]
  },
  {
   "cell_type": "code",
   "execution_count": 16,
   "metadata": {
    "collapsed": false
   },
   "outputs": [
    {
     "name": "stdout",
     "output_type": "stream",
     "text": [
      "10 12\n"
     ]
    }
   ],
   "source": [
    "source = 'すももも桃も桃のうち'\n",
    "target = 'すもももももももものうち'\n",
    "m, n = len(source), len(target)\n",
    "print(m, n)"
   ]
  },
  {
   "cell_type": "code",
   "execution_count": 17,
   "metadata": {
    "collapsed": false
   },
   "outputs": [
    {
     "name": "stdout",
     "output_type": "stream",
     "text": [
      "7 7\n"
     ]
    }
   ],
   "source": [
    "source = tokenizer.tokenize(source)\n",
    "target = tokenizer.tokenize(target)\n",
    "m, n = len(source), len(target)\n",
    "print(m, n)"
   ]
  },
  {
   "cell_type": "code",
   "execution_count": 18,
   "metadata": {
    "collapsed": true
   },
   "outputs": [],
   "source": [
    "dv = DiffVis(source, target)\n",
    "dv.build()"
   ]
  },
  {
   "cell_type": "code",
   "execution_count": 19,
   "metadata": {
    "collapsed": false
   },
   "outputs": [
    {
     "name": "stdout",
     "output_type": "stream",
     "text": [
      "0.2857142857142857\n",
      "2\n"
     ]
    }
   ],
   "source": [
    "print(dv.distance(normalize=True))\n",
    "print(dv.distance(normalize=False))"
   ]
  },
  {
   "cell_type": "code",
   "execution_count": 20,
   "metadata": {
    "collapsed": false
   },
   "outputs": [
    {
     "data": {
      "text/plain": [
       "((0, 1, 2, 3, 4, 5, 6, 7),\n",
       " (1, 0, 1, 2, 3, 4, 5, 6),\n",
       " (2, 1, 0, 1, 2, 3, 4, 5),\n",
       " (3, 2, 1, 1, 2, 3, 4, 5),\n",
       " (4, 3, 2, 2, 1, 2, 3, 4),\n",
       " (5, 4, 3, 3, 2, 2, 3, 4),\n",
       " (6, 5, 4, 4, 3, 3, 2, 3),\n",
       " (7, 6, 5, 5, 4, 4, 3, 2))"
      ]
     },
     "execution_count": 20,
     "metadata": {},
     "output_type": "execute_result"
    }
   ],
   "source": [
    "dv.cost_table"
   ]
  },
  {
   "cell_type": "code",
   "execution_count": 21,
   "metadata": {
    "collapsed": false
   },
   "outputs": [
    {
     "data": {
      "text/plain": [
       "('match', 'match', 'replace', 'match', 'replace', 'match', 'match')"
      ]
     },
     "execution_count": 21,
     "metadata": {},
     "output_type": "execute_result"
    }
   ],
   "source": [
    "dv.edit_history"
   ]
  },
  {
   "cell_type": "code",
   "execution_count": 22,
   "metadata": {
    "collapsed": false,
    "scrolled": false
   },
   "outputs": [
    {
     "name": "stdout",
     "output_type": "stream",
     "text": [
      "\u001b[32mすもも\u001b[0m\u001b[32mも\u001b[0m\u001b[31m桃\u001b[0m\u001b[32mも\u001b[0m\u001b[31m桃\u001b[0m\u001b[32mの\u001b[0m\u001b[32mうち\u001b[0m\n",
      "\u001b[32mすもも\u001b[0m\u001b[32mも\u001b[0m\u001b[34mもも\u001b[0m\u001b[32mも\u001b[0m\u001b[34mもも\u001b[0m\u001b[32mの\u001b[0m\u001b[32mうち\u001b[0m\n"
     ]
    }
   ],
   "source": [
    "print(dv.generate_comparison(mode='console'))"
   ]
  },
  {
   "cell_type": "code",
   "execution_count": 23,
   "metadata": {
    "collapsed": false
   },
   "outputs": [
    {
     "data": {
      "text/html": [
       "<span style=\"color: green;\">すもも</span><span style=\"color: green;\">も</span><span style=\"color: red;\">桃</span><span style=\"color: green;\">も</span><span style=\"color: red;\">桃</span><span style=\"color: green;\">の</span><span style=\"color: green;\">うち</span><br><span style=\"color: green;\">すもも</span><span style=\"color: green;\">も</span><span style=\"color: blue;\">もも</span><span style=\"color: green;\">も</span><span style=\"color: blue;\">もも</span><span style=\"color: green;\">の</span><span style=\"color: green;\">うち</span>"
      ],
      "text/plain": [
       "<IPython.core.display.HTML object>"
      ]
     },
     "execution_count": 23,
     "metadata": {},
     "output_type": "execute_result"
    }
   ],
   "source": [
    "HTML(dv.generate_comparison(mode='html'))"
   ]
  },
  {
   "cell_type": "code",
   "execution_count": 24,
   "metadata": {
    "collapsed": false
   },
   "outputs": [
    {
     "data": {
      "text/html": [
       "<table style=\"table-layout: fixed;\"><tr><td style=\"text-align=center\"><span style=\"color: green;\">すもも</span></td><td style=\"text-align=center\"><span style=\"color: green;\">も</span></td><td style=\"text-align=center\"><span style=\"color: red;\">桃</span></td><td style=\"text-align=center\"><span style=\"color: green;\">も</span></td><td style=\"text-align=center\"><span style=\"color: red;\">桃</span></td><td style=\"text-align=center\"><span style=\"color: green;\">の</span></td><td style=\"text-align=center\"><span style=\"color: green;\">うち</span></td></tr><tr><td style=\"text-align=center\"><span style=\"color: green;\">すもも</span></td><td style=\"text-align=center\"><span style=\"color: green;\">も</span></td><td style=\"text-align=center\"><span style=\"color: blue;\">もも</span></td><td style=\"text-align=center\"><span style=\"color: green;\">も</span></td><td style=\"text-align=center\"><span style=\"color: blue;\">もも</span></td><td style=\"text-align=center\"><span style=\"color: green;\">の</span></td><td style=\"text-align=center\"><span style=\"color: green;\">うち</span></td></tr></table>"
      ],
      "text/plain": [
       "<IPython.core.display.HTML object>"
      ]
     },
     "execution_count": 24,
     "metadata": {},
     "output_type": "execute_result"
    }
   ],
   "source": [
    "HTML(dv.generate_comparison(mode='htmltab'))"
   ]
  },
  {
   "cell_type": "code",
   "execution_count": 25,
   "metadata": {
    "collapsed": false
   },
   "outputs": [
    {
     "data": {
      "text/plain": [
       "['すもも', 'も', '<blank>', 'も', '<blank>', 'の', 'うち']"
      ]
     },
     "execution_count": 25,
     "metadata": {},
     "output_type": "execute_result"
    }
   ],
   "source": [
    "make_template(source, target, dv.edit_history)"
   ]
  }
 ],
 "metadata": {
  "kernelspec": {
   "display_name": "Python 3",
   "language": "python",
   "name": "python3"
  },
  "language_info": {
   "codemirror_mode": {
    "name": "ipython",
    "version": 3
   },
   "file_extension": ".py",
   "mimetype": "text/x-python",
   "name": "python",
   "nbconvert_exporter": "python",
   "pygments_lexer": "ipython3",
   "version": "3.6.0"
  }
 },
 "nbformat": 4,
 "nbformat_minor": 2
}
